{
 "cells": [
  {
   "cell_type": "markdown",
   "id": "07ffeced",
   "metadata": {},
   "source": [
    "### installation of required libraries\n",
    "\n",
    "In this notebook, we're installing the ipyparallel library, which is the library that coordinates inter-machine workloads. Additionally, we're installing packages needed for the distributed computing tasks. \n",
    "\n",
    "Note that ALL of the libraries needed to complete the distributed task must be installed on ALL machines in the cluster.\n",
    "\n",
    "Also note that we're installing a specific version of scikit-learn. "
   ]
  },
  {
   "cell_type": "code",
   "execution_count": null,
   "id": "28f21169",
   "metadata": {},
   "outputs": [],
   "source": [
    "# The libraries below are required for multicomputer distribution of machine learning tasks. \n",
    "!pip install --upgrade ipyparallel\n",
    "!pip install --user scikit-learn==1.0.2\n",
    "!pip install --upgrade scikit-optimize\n",
    "\n",
    "# These are libraries required by the machine learning project at hand.\n",
    "!pip install --upgrade xgboost\n"
   ]
  },
  {
   "cell_type": "code",
   "execution_count": null,
   "id": "a46402d6",
   "metadata": {},
   "outputs": [],
   "source": []
  }
 ],
 "metadata": {
  "kernelspec": {
   "display_name": "Python 3 (ipykernel)",
   "language": "python",
   "name": "python3"
  },
  "language_info": {
   "codemirror_mode": {
    "name": "ipython",
    "version": 3
   },
   "file_extension": ".py",
   "mimetype": "text/x-python",
   "name": "python",
   "nbconvert_exporter": "python",
   "pygments_lexer": "ipython3",
   "version": "3.9.13"
  }
 },
 "nbformat": 4,
 "nbformat_minor": 5
}
