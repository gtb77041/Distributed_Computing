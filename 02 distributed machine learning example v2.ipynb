{
 "cells": [
  {
   "cell_type": "markdown",
   "id": "ad2ca3dd",
   "metadata": {},
   "source": [
    "## loading libraries"
   ]
  },
  {
   "cell_type": "code",
   "execution_count": null,
   "id": "866f94b3",
   "metadata": {},
   "outputs": [],
   "source": [
    "# Python libraries\n",
    "# Libraries to read and manipulate data\n",
    "import numpy as np\n",
    "import pandas as pd\n",
    "\n",
    "# Libraries to import decision tree classifier \n",
    "from xgboost import XGBClassifier\n",
    "\n",
    "# Libtune to tune model, get different metric scores\n",
    "from sklearn import metrics\n",
    "from sklearn.metrics import confusion_matrix, classification_report, accuracy_score, precision_score, recall_score, f1_score\n",
    "from sklearn.model_selection import GridSearchCV\n",
    "\n",
    "# Library to suppress warnings \n",
    "import warnings\n",
    "warnings.filterwarnings('ignore')\n",
    "\n",
    "# loading packages related to parallelization\n",
    "import ipyparallel as ipp\n",
    "from ipyparallel import Client\n",
    "from ipyparallel.joblib import IPythonParallelBackend\n",
    "from sklearn.utils import parallel_backend\n",
    "from sklearn.utils import register_parallel_backend\n",
    "\n",
    "# libraries concering multithreaded processing\n",
    "import multiprocessing \n",
    "\n",
    "# so I don't have to waste time redoing all the ML models\n",
    "import pickle"
   ]
  },
  {
   "cell_type": "markdown",
   "id": "33368e3c",
   "metadata": {},
   "source": [
    "## connecting to the cluster"
   ]
  },
  {
   "cell_type": "code",
   "execution_count": null,
   "id": "53204742",
   "metadata": {},
   "outputs": [],
   "source": [
    "# must start cluster before running this! \n",
    "# connecting to the cluster\n",
    "cluster = ipp.Cluster.from_file()\n",
    "cluster\n",
    "register_parallel_backend('ipyparallel', lambda : IPythonParallelBackend()) "
   ]
  },
  {
   "cell_type": "code",
   "execution_count": null,
   "id": "8db71e70",
   "metadata": {},
   "outputs": [],
   "source": [
    "# Checking the cluster connection.\n",
    "cluster"
   ]
  },
  {
   "cell_type": "markdown",
   "id": "ae3ad8fc",
   "metadata": {},
   "source": [
    "## loading test and training data sets"
   ]
  },
  {
   "cell_type": "code",
   "execution_count": null,
   "id": "1dbafba5",
   "metadata": {},
   "outputs": [],
   "source": [
    "X_train = pickle.load(open(\"X_train.pkl\", \"rb\" ))\n",
    "y_train = pickle.load(open(\"y_train.pkl\", \"rb\" ))"
   ]
  },
  {
   "cell_type": "markdown",
   "id": "777b182b",
   "metadata": {},
   "source": [
    "## machine learning hyperparameter tuning "
   ]
  },
  {
   "cell_type": "code",
   "execution_count": null,
   "id": "e4dea3f1",
   "metadata": {},
   "outputs": [],
   "source": [
    "%%time\n",
    "\n",
    "# Choose the type of classifier. \n",
    "xgb_grid = XGBClassifier(random_state=1, eval_metric='logloss', nthread=-1) #, tree_method='gpu_hist', nthread=no_cpus,\n",
    "\n",
    "# Grid of parameters to choose from\n",
    "parameters = {\n",
    "    \"n_estimators\": [10,30,50],\n",
    "    \"scale_pos_weight\":[1,2,5],\n",
    "    \"subsample\":[0.7,0.9,1],\n",
    "    \"learning_rate\":[0.05, 0.1,0.2],\n",
    "    \"colsample_bytree\":[0.7,0.9,1],\n",
    "    \"colsample_bylevel\":[0.5,0.7,1]\n",
    "}\n",
    "\n",
    "# Type of scoring used to compare parameter combinations\n",
    "scorer = metrics.make_scorer(metrics.f1_score)\n",
    "\n",
    "# Run the grid search\n",
    "grid_obj = GridSearchCV(xgb_grid, parameters,scoring=scorer,cv=5, n_jobs=1) #, n_jobs=no_cpus\n",
    "\n",
    "with parallel_backend('ipyparallel'):\n",
    "    grid_obj = grid_obj.fit(X_train, y_train)\n",
    "\n",
    "# Set the clf to the best combination of parameters\n",
    "xgb_grid = grid_obj.best_estimator_\n",
    "\n",
    "# Fit the best algorithm to the data.\n",
    "xgb_grid.fit(X_train, y_train)"
   ]
  }
 ],
 "metadata": {
  "kernelspec": {
   "display_name": "Python 3 (ipykernel)",
   "language": "python",
   "name": "python3"
  },
  "language_info": {
   "codemirror_mode": {
    "name": "ipython",
    "version": 3
   },
   "file_extension": ".py",
   "mimetype": "text/x-python",
   "name": "python",
   "nbconvert_exporter": "python",
   "pygments_lexer": "ipython3",
   "version": "3.9.13"
  }
 },
 "nbformat": 4,
 "nbformat_minor": 5
}
